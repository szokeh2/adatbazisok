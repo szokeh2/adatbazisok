{
    "metadata": {
        "kernelspec": {
            "name": "SQL",
            "display_name": "SQL",
            "language": "sql"
        },
        "language_info": {
            "name": "sql",
            "version": ""
        }
    },
    "nbformat_minor": 2,
    "nbformat": 4,
    "cells": [
        {
            "cell_type": "code",
            "source": [
                "SELECT usernev,nev, UPPER(CONCAT(LEFT(NEV,1),RIGHT(nev,1))) as 'Monogram'\r\n",
                "FROM dbo.Vendeg\r\n",
                "WHERE email LIKE '%.hu' or right(email,3) = '.hu'"
            ],
            "metadata": {
                "azdata_cell_guid": "e24edddb-11d1-49b0-9518-874fb8a0b5db",
                "language": "sql"
            },
            "outputs": [
                {
                    "output_type": "display_data",
                    "data": {
                        "text/html": "(107 rows affected)"
                    },
                    "metadata": {}
                },
                {
                    "output_type": "display_data",
                    "data": {
                        "text/html": "Total execution time: 00:00:00.004"
                    },
                    "metadata": {}
                },
                {
                    "output_type": "execute_result",
                    "metadata": {},
                    "execution_count": 1,
                    "data": {
                        "application/vnd.dataresource+json": {
                            "schema": {
                                "fields": [
                                    {
                                        "name": "usernev"
                                    },
                                    {
                                        "name": "nev"
                                    },
                                    {
                                        "name": "Monogram"
                                    }
                                ]
                            },
                            "data": [
                                {
                                    "usernev": "adam1",
                                    "nev": "Kiss Ádám",
                                    "Monogram": "KM"
                                },
                                {
                                    "usernev": "adam4",
                                    "nev": "Bieniek Ádám",
                                    "Monogram": "BM"
                                },
                                {
                                    "usernev": "akos",
                                    "nev": "Bíró Ákos",
                                    "Monogram": "BS"
                                },
                                {
                                    "usernev": "aladar",
                                    "nev": "Dunai Aladár",
                                    "Monogram": "DR"
                                },
                                {
                                    "usernev": "alexandra",
                                    "nev": "Bagóczki Alexandra",
                                    "Monogram": "BA"
                                },
                                {
                                    "usernev": "andi",
                                    "nev": "Maródi Andrea",
                                    "Monogram": "MA"
                                },
                                {
                                    "usernev": "andras2",
                                    "nev": "Tóth András",
                                    "Monogram": "TS"
                                },
                                {
                                    "usernev": "andras21",
                                    "nev": "Molnár András",
                                    "Monogram": "MS"
                                },
                                {
                                    "usernev": "andras3",
                                    "nev": "Vígh András",
                                    "Monogram": "VS"
                                },
                                {
                                    "usernev": "ANDRASN",
                                    "nev": "Nagy András",
                                    "Monogram": "NS"
                                },
                                {
                                    "usernev": "andrea",
                                    "nev": "Kiss Andrea",
                                    "Monogram": "KA"
                                },
                                {
                                    "usernev": "anett3",
                                    "nev": "Pivarcsi Anett",
                                    "Monogram": "PT"
                                },
                                {
                                    "usernev": "anita",
                                    "nev": "Hamvay-Kovács Anita",
                                    "Monogram": "HA"
                                },
                                {
                                    "usernev": "annamaria1",
                                    "nev": "Szűcs Annamária",
                                    "Monogram": "SA"
                                },
                                {
                                    "usernev": "ARONK",
                                    "nev": "Kelemen Áron",
                                    "Monogram": "KN"
                                },
                                {
                                    "usernev": "arpad2",
                                    "nev": "Ötvös Árpád",
                                    "Monogram": "ÖD"
                                },
                                {
                                    "usernev": "ARPADH",
                                    "nev": "Horváth Árpád",
                                    "Monogram": "HD"
                                },
                                {
                                    "usernev": "ARPADM",
                                    "nev": "Móricz Árpád",
                                    "Monogram": "MD"
                                },
                                {
                                    "usernev": "attila1",
                                    "nev": "Gulyás Attila",
                                    "Monogram": "GA"
                                },
                                {
                                    "usernev": "attila4",
                                    "nev": "Baróti Attila",
                                    "Monogram": "BA"
                                },
                                {
                                    "usernev": "balazs1",
                                    "nev": "Bozsik Balázs",
                                    "Monogram": "BS"
                                },
                                {
                                    "usernev": "balazs2",
                                    "nev": "Szűcs Balázs",
                                    "Monogram": "SS"
                                },
                                {
                                    "usernev": "balu",
                                    "nev": "Endresz Bálint",
                                    "Monogram": "ET"
                                },
                                {
                                    "usernev": "beata4",
                                    "nev": "Bagi Beáta",
                                    "Monogram": "BA"
                                },
                                {
                                    "usernev": "BEATRIXK",
                                    "nev": "Kerényi Beatrix",
                                    "Monogram": "KX"
                                },
                                {
                                    "usernev": "BEATRIXS",
                                    "nev": "Szekendi Beatrix",
                                    "Monogram": "SX"
                                },
                                {
                                    "usernev": "BENCEB",
                                    "nev": "Bajusz Bence",
                                    "Monogram": "BE"
                                },
                                {
                                    "usernev": "bernadett2",
                                    "nev": "Kovács Bernadett",
                                    "Monogram": "KT"
                                },
                                {
                                    "usernev": "BERNADETTO",
                                    "nev": "Orbán Bernadett",
                                    "Monogram": "OT"
                                },
                                {
                                    "usernev": "brigitta",
                                    "nev": "Székely Brigitta",
                                    "Monogram": "SA"
                                },
                                {
                                    "usernev": "brigitta3",
                                    "nev": "Pataki Brigitta",
                                    "Monogram": "PA"
                                },
                                {
                                    "usernev": "csongor3",
                                    "nev": "Nagymihály Csongor",
                                    "Monogram": "NR"
                                },
                                {
                                    "usernev": "daniel",
                                    "nev": "Rácz Dániel",
                                    "Monogram": "RL"
                                },
                                {
                                    "usernev": "daniel1",
                                    "nev": "Keszler Dániel",
                                    "Monogram": "KL"
                                },
                                {
                                    "usernev": "debora",
                                    "nev": "Barna Debóra",
                                    "Monogram": "BA"
                                },
                                {
                                    "usernev": "dora3",
                                    "nev": "Sarodi Dóra",
                                    "Monogram": "SA"
                                },
                                {
                                    "usernev": "edit",
                                    "nev": "Bittmann Edit",
                                    "Monogram": "BT"
                                },
                                {
                                    "usernev": "emese",
                                    "nev": "Kuruc Emese",
                                    "Monogram": "KE"
                                },
                                {
                                    "usernev": "eszter",
                                    "nev": "Molnár Eszter",
                                    "Monogram": "MR"
                                },
                                {
                                    "usernev": "eszter2",
                                    "nev": "Balogh Eszter",
                                    "Monogram": "BR"
                                },
                                {
                                    "usernev": "eszter4",
                                    "nev": "Fülöp Eszter",
                                    "Monogram": "FR"
                                },
                                {
                                    "usernev": "ESZTERE",
                                    "nev": "Érsek Eszter",
                                    "Monogram": "ÉR"
                                },
                                {
                                    "usernev": "ferenc1",
                                    "nev": "Orosz Ferenc",
                                    "Monogram": "OC"
                                },
                                {
                                    "usernev": "gabor4",
                                    "nev": "Telek Gábor",
                                    "Monogram": "TR"
                                },
                                {
                                    "usernev": "georgij",
                                    "nev": "Nyíri Georgij",
                                    "Monogram": "NJ"
                                },
                                {
                                    "usernev": "GYONGYIK",
                                    "nev": "Kornseé Gyöngyi",
                                    "Monogram": "KI"
                                },
                                {
                                    "usernev": "henrik3",
                                    "nev": "Nádudvari Henrik",
                                    "Monogram": "NK"
                                },
                                {
                                    "usernev": "IBOLYAA",
                                    "nev": "Andor Ibolya",
                                    "Monogram": "AA"
                                },
                                {
                                    "usernev": "imre",
                                    "nev": "Búza Imre",
                                    "Monogram": "BE"
                                },
                                {
                                    "usernev": "imre1",
                                    "nev": "Papp Imre",
                                    "Monogram": "PE"
                                },
                                {
                                    "usernev": "istvan1",
                                    "nev": "Vizi István",
                                    "Monogram": "VN"
                                },
                                {
                                    "usernev": "jozsef2",
                                    "nev": "Vajda József",
                                    "Monogram": "VF"
                                },
                                {
                                    "usernev": "JOZSEFG",
                                    "nev": "Gyuris József",
                                    "Monogram": "GF"
                                },
                                {
                                    "usernev": "kata",
                                    "nev": "Gondos Katalin",
                                    "Monogram": "GN"
                                },
                                {
                                    "usernev": "katalin",
                                    "nev": "Horváth Katalin",
                                    "Monogram": "HN"
                                },
                                {
                                    "usernev": "kati",
                                    "nev": "Zatykó Katalin",
                                    "Monogram": "ZN"
                                },
                                {
                                    "usernev": "katka",
                                    "nev": "Kovács Katalin",
                                    "Monogram": "KN"
                                },
                                {
                                    "usernev": "klaudia2",
                                    "nev": "Bakó Klaudia",
                                    "Monogram": "BA"
                                },
                                {
                                    "usernev": "kornel4",
                                    "nev": "Lukács Kornél",
                                    "Monogram": "LL"
                                },
                                {
                                    "usernev": "krisztian4",
                                    "nev": "Czérna Krisztián",
                                    "Monogram": "CN"
                                },
                                {
                                    "usernev": "krisztina1",
                                    "nev": "Bori Krisztina",
                                    "Monogram": "BA"
                                },
                                {
                                    "usernev": "lajos",
                                    "nev": "Kiss Lajos",
                                    "Monogram": "KS"
                                },
                                {
                                    "usernev": "lala",
                                    "nev": "Nagymihály Lajos",
                                    "Monogram": "NS"
                                },
                                {
                                    "usernev": "laszlo1",
                                    "nev": "Farkas László",
                                    "Monogram": "FÓ"
                                },
                                {
                                    "usernev": "laszlo2",
                                    "nev": "Móra László",
                                    "Monogram": "MÓ"
                                },
                                {
                                    "usernev": "LASZLOA",
                                    "nev": "Antal László",
                                    "Monogram": "AÓ"
                                },
                                {
                                    "usernev": "LASZLON",
                                    "nev": "Nagy László",
                                    "Monogram": "NÓ"
                                },
                                {
                                    "usernev": "maria1",
                                    "nev": "Baráth Mária",
                                    "Monogram": "BA"
                                },
                                {
                                    "usernev": "mark",
                                    "nev": "Kispál Márk",
                                    "Monogram": "KK"
                                },
                                {
                                    "usernev": "MARKH",
                                    "nev": "Horváth Márk",
                                    "Monogram": "HK"
                                },
                                {
                                    "usernev": "MATEK",
                                    "nev": "Koza Máté",
                                    "Monogram": "KÉ"
                                },
                                {
                                    "usernev": "MATYASS",
                                    "nev": "Szilágyi Mátyás",
                                    "Monogram": "SS"
                                },
                                {
                                    "usernev": "MIHALYJ",
                                    "nev": "Juhász Mihály",
                                    "Monogram": "JY"
                                },
                                {
                                    "usernev": "MIKLOSB",
                                    "nev": "Balla Miklós",
                                    "Monogram": "BS"
                                },
                                {
                                    "usernev": "MONIKAM",
                                    "nev": "Mohos Mónika",
                                    "Monogram": "MA"
                                },
                                {
                                    "usernev": "NANDORF",
                                    "nev": "Fő Nándor",
                                    "Monogram": "FR"
                                },
                                {
                                    "usernev": "NIKOLETTAT",
                                    "nev": "Tatár Nikoletta",
                                    "Monogram": "TA"
                                },
                                {
                                    "usernev": "norbert2",
                                    "nev": "Hegedűs Norbert",
                                    "Monogram": "HT"
                                },
                                {
                                    "usernev": "pal",
                                    "nev": "Barabás Pál",
                                    "Monogram": "BL"
                                },
                                {
                                    "usernev": "peter4",
                                    "nev": "Bíró Péter",
                                    "Monogram": "BR"
                                },
                                {
                                    "usernev": "PETERB",
                                    "nev": "Berendi Péter",
                                    "Monogram": "BR"
                                },
                                {
                                    "usernev": "rajmond4",
                                    "nev": "Rácz Rajmond",
                                    "Monogram": "RD"
                                },
                                {
                                    "usernev": "reka4",
                                    "nev": "Szikszai Réka",
                                    "Monogram": "SA"
                                },
                                {
                                    "usernev": "RENATAK",
                                    "nev": "Kardos Renáta",
                                    "Monogram": "KA"
                                },
                                {
                                    "usernev": "ROBERTI",
                                    "nev": "Iván Róbert",
                                    "Monogram": "IT"
                                },
                                {
                                    "usernev": "roland1",
                                    "nev": "Ferencz Roland",
                                    "Monogram": "FD"
                                },
                                {
                                    "usernev": "sandor3",
                                    "nev": "Farkas Sándor",
                                    "Monogram": "FR"
                                },
                                {
                                    "usernev": "sara",
                                    "nev": "Farkas Sára",
                                    "Monogram": "FA"
                                },
                                {
                                    "usernev": "szabolcs",
                                    "nev": "Bodor Szabolcs",
                                    "Monogram": "BS"
                                },
                                {
                                    "usernev": "SZABOLCSM",
                                    "nev": "Miklós Szabolcs",
                                    "Monogram": "MS"
                                },
                                {
                                    "usernev": "SZILARDS",
                                    "nev": "Szalai Szilárd",
                                    "Monogram": "SD"
                                },
                                {
                                    "usernev": "szilvia1",
                                    "nev": "Tari Szilvia",
                                    "Monogram": "TA"
                                },
                                {
                                    "usernev": "tamara2",
                                    "nev": "Miklós Tamara",
                                    "Monogram": "MA"
                                },
                                {
                                    "usernev": "tamas",
                                    "nev": "Antal Tamás",
                                    "Monogram": "AS"
                                },
                                {
                                    "usernev": "tibor",
                                    "nev": "Gombos Tibor",
                                    "Monogram": "GR"
                                },
                                {
                                    "usernev": "tihamer",
                                    "nev": "Kazy Tihamér",
                                    "Monogram": "KR"
                                },
                                {
                                    "usernev": "timea2",
                                    "nev": "Dusha Tímea",
                                    "Monogram": "DA"
                                },
                                {
                                    "usernev": "valentin",
                                    "nev": "Feró Valentin",
                                    "Monogram": "FN"
                                },
                                {
                                    "usernev": "VIKTORIAU",
                                    "nev": "Urbán Viktoria",
                                    "Monogram": "UA"
                                },
                                {
                                    "usernev": "VIKTORK",
                                    "nev": "Keresztúri Viktor",
                                    "Monogram": "KR"
                                },
                                {
                                    "usernev": "zoltan",
                                    "nev": "Fodor Zoltán",
                                    "Monogram": "FN"
                                },
                                {
                                    "usernev": "ZOLTANP",
                                    "nev": "Pintér Zoltán",
                                    "Monogram": "PN"
                                },
                                {
                                    "usernev": "ZOLTANT",
                                    "nev": "Tóth Zoltán",
                                    "Monogram": "TN"
                                },
                                {
                                    "usernev": "zsolt1",
                                    "nev": "Pulai Zsolt",
                                    "Monogram": "PT"
                                },
                                {
                                    "usernev": "zsuzsa3",
                                    "nev": "Varsányi Zsuzsa",
                                    "Monogram": "VA"
                                },
                                {
                                    "usernev": "zsuzsanna",
                                    "nev": "Barta Zsuzsanna",
                                    "Monogram": "BA"
                                },
                                {
                                    "usernev": "ZSUZSAV",
                                    "nev": "Vajda Zsuzsa",
                                    "Monogram": "VA"
                                }
                            ]
                        },
                        "text/html": [
                            "<table>",
                            "<tr><th>usernev</th><th>nev</th><th>Monogram</th></tr>",
                            "<tr><td>adam1</td><td>Kiss Ádám</td><td>KM</td></tr>",
                            "<tr><td>adam4</td><td>Bieniek Ádám</td><td>BM</td></tr>",
                            "<tr><td>akos</td><td>Bíró Ákos</td><td>BS</td></tr>",
                            "<tr><td>aladar</td><td>Dunai Aladár</td><td>DR</td></tr>",
                            "<tr><td>alexandra</td><td>Bagóczki Alexandra</td><td>BA</td></tr>",
                            "<tr><td>andi</td><td>Maródi Andrea</td><td>MA</td></tr>",
                            "<tr><td>andras2</td><td>Tóth András</td><td>TS</td></tr>",
                            "<tr><td>andras21</td><td>Molnár András</td><td>MS</td></tr>",
                            "<tr><td>andras3</td><td>Vígh András</td><td>VS</td></tr>",
                            "<tr><td>ANDRASN</td><td>Nagy András</td><td>NS</td></tr>",
                            "<tr><td>andrea</td><td>Kiss Andrea</td><td>KA</td></tr>",
                            "<tr><td>anett3</td><td>Pivarcsi Anett</td><td>PT</td></tr>",
                            "<tr><td>anita</td><td>Hamvay-Kovács Anita</td><td>HA</td></tr>",
                            "<tr><td>annamaria1</td><td>Szűcs Annamária</td><td>SA</td></tr>",
                            "<tr><td>ARONK</td><td>Kelemen Áron</td><td>KN</td></tr>",
                            "<tr><td>arpad2</td><td>Ötvös Árpád</td><td>ÖD</td></tr>",
                            "<tr><td>ARPADH</td><td>Horváth Árpád</td><td>HD</td></tr>",
                            "<tr><td>ARPADM</td><td>Móricz Árpád</td><td>MD</td></tr>",
                            "<tr><td>attila1</td><td>Gulyás Attila</td><td>GA</td></tr>",
                            "<tr><td>attila4</td><td>Baróti Attila</td><td>BA</td></tr>",
                            "<tr><td>balazs1</td><td>Bozsik Balázs</td><td>BS</td></tr>",
                            "<tr><td>balazs2</td><td>Szűcs Balázs</td><td>SS</td></tr>",
                            "<tr><td>balu</td><td>Endresz Bálint</td><td>ET</td></tr>",
                            "<tr><td>beata4</td><td>Bagi Beáta</td><td>BA</td></tr>",
                            "<tr><td>BEATRIXK</td><td>Kerényi Beatrix</td><td>KX</td></tr>",
                            "<tr><td>BEATRIXS</td><td>Szekendi Beatrix</td><td>SX</td></tr>",
                            "<tr><td>BENCEB</td><td>Bajusz Bence</td><td>BE</td></tr>",
                            "<tr><td>bernadett2</td><td>Kovács Bernadett</td><td>KT</td></tr>",
                            "<tr><td>BERNADETTO</td><td>Orbán Bernadett</td><td>OT</td></tr>",
                            "<tr><td>brigitta</td><td>Székely Brigitta</td><td>SA</td></tr>",
                            "<tr><td>brigitta3</td><td>Pataki Brigitta</td><td>PA</td></tr>",
                            "<tr><td>csongor3</td><td>Nagymihály Csongor</td><td>NR</td></tr>",
                            "<tr><td>daniel</td><td>Rácz Dániel</td><td>RL</td></tr>",
                            "<tr><td>daniel1</td><td>Keszler Dániel</td><td>KL</td></tr>",
                            "<tr><td>debora</td><td>Barna Debóra</td><td>BA</td></tr>",
                            "<tr><td>dora3</td><td>Sarodi Dóra</td><td>SA</td></tr>",
                            "<tr><td>edit</td><td>Bittmann Edit</td><td>BT</td></tr>",
                            "<tr><td>emese</td><td>Kuruc Emese</td><td>KE</td></tr>",
                            "<tr><td>eszter</td><td>Molnár Eszter</td><td>MR</td></tr>",
                            "<tr><td>eszter2</td><td>Balogh Eszter</td><td>BR</td></tr>",
                            "<tr><td>eszter4</td><td>Fülöp Eszter</td><td>FR</td></tr>",
                            "<tr><td>ESZTERE</td><td>Érsek Eszter</td><td>ÉR</td></tr>",
                            "<tr><td>ferenc1</td><td>Orosz Ferenc</td><td>OC</td></tr>",
                            "<tr><td>gabor4</td><td>Telek Gábor</td><td>TR</td></tr>",
                            "<tr><td>georgij</td><td>Nyíri Georgij</td><td>NJ</td></tr>",
                            "<tr><td>GYONGYIK</td><td>Kornseé Gyöngyi</td><td>KI</td></tr>",
                            "<tr><td>henrik3</td><td>Nádudvari Henrik</td><td>NK</td></tr>",
                            "<tr><td>IBOLYAA</td><td>Andor Ibolya</td><td>AA</td></tr>",
                            "<tr><td>imre</td><td>Búza Imre</td><td>BE</td></tr>",
                            "<tr><td>imre1</td><td>Papp Imre</td><td>PE</td></tr>",
                            "<tr><td>istvan1</td><td>Vizi István</td><td>VN</td></tr>",
                            "<tr><td>jozsef2</td><td>Vajda József</td><td>VF</td></tr>",
                            "<tr><td>JOZSEFG</td><td>Gyuris József</td><td>GF</td></tr>",
                            "<tr><td>kata</td><td>Gondos Katalin</td><td>GN</td></tr>",
                            "<tr><td>katalin</td><td>Horváth Katalin</td><td>HN</td></tr>",
                            "<tr><td>kati</td><td>Zatykó Katalin</td><td>ZN</td></tr>",
                            "<tr><td>katka</td><td>Kovács Katalin</td><td>KN</td></tr>",
                            "<tr><td>klaudia2</td><td>Bakó Klaudia</td><td>BA</td></tr>",
                            "<tr><td>kornel4</td><td>Lukács Kornél</td><td>LL</td></tr>",
                            "<tr><td>krisztian4</td><td>Czérna Krisztián</td><td>CN</td></tr>",
                            "<tr><td>krisztina1</td><td>Bori Krisztina</td><td>BA</td></tr>",
                            "<tr><td>lajos</td><td>Kiss Lajos</td><td>KS</td></tr>",
                            "<tr><td>lala</td><td>Nagymihály Lajos</td><td>NS</td></tr>",
                            "<tr><td>laszlo1</td><td>Farkas László</td><td>FÓ</td></tr>",
                            "<tr><td>laszlo2</td><td>Móra László</td><td>MÓ</td></tr>",
                            "<tr><td>LASZLOA</td><td>Antal László</td><td>AÓ</td></tr>",
                            "<tr><td>LASZLON</td><td>Nagy László</td><td>NÓ</td></tr>",
                            "<tr><td>maria1</td><td>Baráth Mária</td><td>BA</td></tr>",
                            "<tr><td>mark</td><td>Kispál Márk</td><td>KK</td></tr>",
                            "<tr><td>MARKH</td><td>Horváth Márk</td><td>HK</td></tr>",
                            "<tr><td>MATEK</td><td>Koza Máté</td><td>KÉ</td></tr>",
                            "<tr><td>MATYASS</td><td>Szilágyi Mátyás</td><td>SS</td></tr>",
                            "<tr><td>MIHALYJ</td><td>Juhász Mihály</td><td>JY</td></tr>",
                            "<tr><td>MIKLOSB</td><td>Balla Miklós</td><td>BS</td></tr>",
                            "<tr><td>MONIKAM</td><td>Mohos Mónika</td><td>MA</td></tr>",
                            "<tr><td>NANDORF</td><td>Fő Nándor</td><td>FR</td></tr>",
                            "<tr><td>NIKOLETTAT</td><td>Tatár Nikoletta</td><td>TA</td></tr>",
                            "<tr><td>norbert2</td><td>Hegedűs Norbert</td><td>HT</td></tr>",
                            "<tr><td>pal</td><td>Barabás Pál</td><td>BL</td></tr>",
                            "<tr><td>peter4</td><td>Bíró Péter</td><td>BR</td></tr>",
                            "<tr><td>PETERB</td><td>Berendi Péter</td><td>BR</td></tr>",
                            "<tr><td>rajmond4</td><td>Rácz Rajmond</td><td>RD</td></tr>",
                            "<tr><td>reka4</td><td>Szikszai Réka</td><td>SA</td></tr>",
                            "<tr><td>RENATAK</td><td>Kardos Renáta</td><td>KA</td></tr>",
                            "<tr><td>ROBERTI</td><td>Iván Róbert</td><td>IT</td></tr>",
                            "<tr><td>roland1</td><td>Ferencz Roland</td><td>FD</td></tr>",
                            "<tr><td>sandor3</td><td>Farkas Sándor</td><td>FR</td></tr>",
                            "<tr><td>sara</td><td>Farkas Sára</td><td>FA</td></tr>",
                            "<tr><td>szabolcs</td><td>Bodor Szabolcs</td><td>BS</td></tr>",
                            "<tr><td>SZABOLCSM</td><td>Miklós Szabolcs</td><td>MS</td></tr>",
                            "<tr><td>SZILARDS</td><td>Szalai Szilárd</td><td>SD</td></tr>",
                            "<tr><td>szilvia1</td><td>Tari Szilvia</td><td>TA</td></tr>",
                            "<tr><td>tamara2</td><td>Miklós Tamara</td><td>MA</td></tr>",
                            "<tr><td>tamas</td><td>Antal Tamás</td><td>AS</td></tr>",
                            "<tr><td>tibor</td><td>Gombos Tibor</td><td>GR</td></tr>",
                            "<tr><td>tihamer</td><td>Kazy Tihamér</td><td>KR</td></tr>",
                            "<tr><td>timea2</td><td>Dusha Tímea</td><td>DA</td></tr>",
                            "<tr><td>valentin</td><td>Feró Valentin</td><td>FN</td></tr>",
                            "<tr><td>VIKTORIAU</td><td>Urbán Viktoria</td><td>UA</td></tr>",
                            "<tr><td>VIKTORK</td><td>Keresztúri Viktor</td><td>KR</td></tr>",
                            "<tr><td>zoltan</td><td>Fodor Zoltán</td><td>FN</td></tr>",
                            "<tr><td>ZOLTANP</td><td>Pintér Zoltán</td><td>PN</td></tr>",
                            "<tr><td>ZOLTANT</td><td>Tóth Zoltán</td><td>TN</td></tr>",
                            "<tr><td>zsolt1</td><td>Pulai Zsolt</td><td>PT</td></tr>",
                            "<tr><td>zsuzsa3</td><td>Varsányi Zsuzsa</td><td>VA</td></tr>",
                            "<tr><td>zsuzsanna</td><td>Barta Zsuzsanna</td><td>BA</td></tr>",
                            "<tr><td>ZSUZSAV</td><td>Vajda Zsuzsa</td><td>VA</td></tr>",
                            "</table>"
                        ]
                    }
                }
            ],
            "execution_count": 1
        },
        {
            "cell_type": "code",
            "source": [
                "select szallas_id, szallas_nev, hely, DATEDIFF(DAY,ROGZ_IDO,GETDATE()) as \"rogzites\"\r\n",
                "FROM dbo.Szallashely\r\n",
                "where tipus <> 'vendégház' or tipus <> 'panzió'"
            ],
            "metadata": {
                "language": "sql",
                "azdata_cell_guid": "e75f7d69-1625-47ac-90c5-3a84bec58d43"
            },
            "outputs": [
                {
                    "output_type": "display_data",
                    "data": {
                        "text/html": "(21 rows affected)"
                    },
                    "metadata": {}
                },
                {
                    "output_type": "display_data",
                    "data": {
                        "text/html": "Total execution time: 00:00:00.008"
                    },
                    "metadata": {}
                },
                {
                    "output_type": "execute_result",
                    "metadata": {},
                    "execution_count": 11,
                    "data": {
                        "application/vnd.dataresource+json": {
                            "schema": {
                                "fields": [
                                    {
                                        "name": "szallas_id"
                                    },
                                    {
                                        "name": "szallas_nev"
                                    },
                                    {
                                        "name": "hely"
                                    },
                                    {
                                        "name": "rogzites"
                                    }
                                ]
                            },
                            "data": [
                                {
                                    "szallas_id": "1",
                                    "szallas_nev": "Sába-Ház",
                                    "hely": "Balaton-dél",
                                    "rogzites": "3285"
                                },
                                {
                                    "szallas_id": "2",
                                    "szallas_nev": "Családi Ház",
                                    "hely": "Balaton-dél",
                                    "rogzites": "3282"
                                },
                                {
                                    "szallas_id": "3",
                                    "szallas_nev": "Fortuna Apartman",
                                    "hely": "Hajdúbihar megye",
                                    "rogzites": "3278"
                                },
                                {
                                    "szallas_id": "4",
                                    "szallas_nev": "Fortuna panzió",
                                    "hely": "Budapest",
                                    "rogzites": "3277"
                                },
                                {
                                    "szallas_id": "5",
                                    "szallas_nev": "Fortuna Panzió",
                                    "hely": "Békés megye",
                                    "rogzites": "3276"
                                },
                                {
                                    "szallas_id": "6",
                                    "szallas_nev": "Kentaur Hotel",
                                    "hely": "Balaton-dél",
                                    "rogzites": "3276"
                                },
                                {
                                    "szallas_id": "7",
                                    "szallas_nev": "Szieszta Apartmanház",
                                    "hely": "Balaton-dél",
                                    "rogzites": "3273"
                                },
                                {
                                    "szallas_id": "8",
                                    "szallas_nev": "Hotel Három Hattyú",
                                    "hely": "Balaton-dél",
                                    "rogzites": "3271"
                                },
                                {
                                    "szallas_id": "9",
                                    "szallas_nev": "Jáde panzió",
                                    "hely": "Balaton-dél",
                                    "rogzites": "3268"
                                },
                                {
                                    "szallas_id": "10",
                                    "szallas_nev": "Lagúna Hotel",
                                    "hely": "Budapest",
                                    "rogzites": "3264"
                                },
                                {
                                    "szallas_id": "11",
                                    "szallas_nev": "Partiszél Vendégház",
                                    "hely": "Balaton-észak",
                                    "rogzites": "3262"
                                },
                                {
                                    "szallas_id": "12",
                                    "szallas_nev": "Gold Hotel",
                                    "hely": "Budapest",
                                    "rogzites": "3260"
                                },
                                {
                                    "szallas_id": "13",
                                    "szallas_nev": "Riviéra Panzió",
                                    "hely": "Csongrád megye",
                                    "rogzites": "3257"
                                },
                                {
                                    "szallas_id": "14",
                                    "szallas_nev": "Nyárfás Vendégház",
                                    "hely": "Csongrád megye",
                                    "rogzites": "3257"
                                },
                                {
                                    "szallas_id": "15",
                                    "szallas_nev": "Tímárház Panzió",
                                    "hely": "Balaton-dél",
                                    "rogzites": "3255"
                                },
                                {
                                    "szallas_id": "16",
                                    "szallas_nev": "Bagoly Hotel",
                                    "hely": "Pest megye",
                                    "rogzites": "3252"
                                },
                                {
                                    "szallas_id": "17",
                                    "szallas_nev": "Szarvas Hotel",
                                    "hely": "Tolna megye",
                                    "rogzites": "3249"
                                },
                                {
                                    "szallas_id": "18",
                                    "szallas_nev": "Fortuna Apartman",
                                    "hely": "Dél-Somogy",
                                    "rogzites": "3246"
                                },
                                {
                                    "szallas_id": "19",
                                    "szallas_nev": "Nyárfás Vendégház",
                                    "hely": "Dél-Somogy",
                                    "rogzites": "3246"
                                },
                                {
                                    "szallas_id": "20",
                                    "szallas_nev": "Kollégium",
                                    "hely": "Budapest",
                                    "rogzites": "3246"
                                },
                                {
                                    "szallas_id": "21",
                                    "szallas_nev": "Müller Vendégház",
                                    "hely": "Dél-Somogy",
                                    "rogzites": "3246"
                                }
                            ]
                        },
                        "text/html": [
                            "<table>",
                            "<tr><th>szallas_id</th><th>szallas_nev</th><th>hely</th><th>rogzites</th></tr>",
                            "<tr><td>1</td><td>Sába-Ház</td><td>Balaton-dél</td><td>3285</td></tr>",
                            "<tr><td>2</td><td>Családi Ház</td><td>Balaton-dél</td><td>3282</td></tr>",
                            "<tr><td>3</td><td>Fortuna Apartman</td><td>Hajdúbihar megye</td><td>3278</td></tr>",
                            "<tr><td>4</td><td>Fortuna panzió</td><td>Budapest</td><td>3277</td></tr>",
                            "<tr><td>5</td><td>Fortuna Panzió</td><td>Békés megye</td><td>3276</td></tr>",
                            "<tr><td>6</td><td>Kentaur Hotel</td><td>Balaton-dél</td><td>3276</td></tr>",
                            "<tr><td>7</td><td>Szieszta Apartmanház</td><td>Balaton-dél</td><td>3273</td></tr>",
                            "<tr><td>8</td><td>Hotel Három Hattyú</td><td>Balaton-dél</td><td>3271</td></tr>",
                            "<tr><td>9</td><td>Jáde panzió</td><td>Balaton-dél</td><td>3268</td></tr>",
                            "<tr><td>10</td><td>Lagúna Hotel</td><td>Budapest</td><td>3264</td></tr>",
                            "<tr><td>11</td><td>Partiszél Vendégház</td><td>Balaton-észak</td><td>3262</td></tr>",
                            "<tr><td>12</td><td>Gold Hotel</td><td>Budapest</td><td>3260</td></tr>",
                            "<tr><td>13</td><td>Riviéra Panzió</td><td>Csongrád megye</td><td>3257</td></tr>",
                            "<tr><td>14</td><td>Nyárfás Vendégház</td><td>Csongrád megye</td><td>3257</td></tr>",
                            "<tr><td>15</td><td>Tímárház Panzió</td><td>Balaton-dél</td><td>3255</td></tr>",
                            "<tr><td>16</td><td>Bagoly Hotel</td><td>Pest megye</td><td>3252</td></tr>",
                            "<tr><td>17</td><td>Szarvas Hotel</td><td>Tolna megye</td><td>3249</td></tr>",
                            "<tr><td>18</td><td>Fortuna Apartman</td><td>Dél-Somogy</td><td>3246</td></tr>",
                            "<tr><td>19</td><td>Nyárfás Vendégház</td><td>Dél-Somogy</td><td>3246</td></tr>",
                            "<tr><td>20</td><td>Kollégium</td><td>Budapest</td><td>3246</td></tr>",
                            "<tr><td>21</td><td>Müller Vendégház</td><td>Dél-Somogy</td><td>3246</td></tr>",
                            "</table>"
                        ]
                    }
                }
            ],
            "execution_count": 11
        }
    ]
}